{
 "cells": [
  {
   "cell_type": "code",
   "execution_count": 1,
   "id": "066962f2",
   "metadata": {},
   "outputs": [],
   "source": [
    "#to reverse a list"
   ]
  },
  {
   "cell_type": "code",
   "execution_count": 2,
   "id": "00f9cd60",
   "metadata": {},
   "outputs": [],
   "source": [
    "a=[1,3,4,5,7,8]\n"
   ]
  },
  {
   "cell_type": "code",
   "execution_count": 3,
   "id": "a9784df1",
   "metadata": {},
   "outputs": [],
   "source": [
    "b=[]"
   ]
  },
  {
   "cell_type": "code",
   "execution_count": 9,
   "id": "1ffcae84",
   "metadata": {},
   "outputs": [],
   "source": [
    "for i in range(len(a)):\n",
    "    b.append(a[len(a)-i-1])\n",
    "    "
   ]
  },
  {
   "cell_type": "code",
   "execution_count": 10,
   "id": "a7c2e552",
   "metadata": {},
   "outputs": [
    {
     "data": {
      "text/plain": [
       "[8, 7, 5, 4, 3, 1]"
      ]
     },
     "execution_count": 10,
     "metadata": {},
     "output_type": "execute_result"
    }
   ],
   "source": [
    "b"
   ]
  },
  {
   "cell_type": "code",
   "execution_count": null,
   "id": "c4d519eb",
   "metadata": {},
   "outputs": [],
   "source": []
  }
 ],
 "metadata": {
  "kernelspec": {
   "display_name": "Python 3 (ipykernel)",
   "language": "python",
   "name": "python3"
  },
  "language_info": {
   "codemirror_mode": {
    "name": "ipython",
    "version": 3
   },
   "file_extension": ".py",
   "mimetype": "text/x-python",
   "name": "python",
   "nbconvert_exporter": "python",
   "pygments_lexer": "ipython3",
   "version": "3.9.13"
  }
 },
 "nbformat": 4,
 "nbformat_minor": 5
}
