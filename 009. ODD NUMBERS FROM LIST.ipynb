{
 "cells": [
  {
   "cell_type": "code",
   "execution_count": 8,
   "id": "c5defc72",
   "metadata": {},
   "outputs": [
    {
     "name": "stdout",
     "output_type": "stream",
     "text": [
      "enter the number of elements to be in the list : 11\n",
      "0\n",
      "1\n",
      "2\n",
      "3\n",
      "4\n",
      "5\n",
      "6\n",
      "7\n",
      "8\n",
      "9\n",
      "10\n",
      "list is : [0, 1, 2, 3, 4, 5, 6, 7, 8, 9, 10]\n",
      "list containing odd elements of the input list : [2, 4, 6, 8, 10]\n"
     ]
    }
   ],
   "source": [
    "'''Write a function that takes a list of numbers as input and returns\n",
    "a new list containing only the even numbers from the input list.\n",
    "Use list comprehension to solve this problem.'''\n",
    "\n",
    "a=int(input('enter the number of elements to be in the list : '))\n",
    "temp=0\n",
    "list=[]\n",
    "new_list=[]\n",
    "\n",
    "for i in range(a):\n",
    "    temp=input()\n",
    "    list.append(int(temp))\n",
    "print(f'list is : {list}')\n",
    "\n",
    "new_list=  [i for i in list if i%2==0 and i!=0] \n",
    "print(f'list containing odd elements of the input list : {new_list}')"
   ]
  },
  {
   "cell_type": "code",
   "execution_count": null,
   "id": "79572309",
   "metadata": {},
   "outputs": [],
   "source": []
  }
 ],
 "metadata": {
  "kernelspec": {
   "display_name": "Python 3 (ipykernel)",
   "language": "python",
   "name": "python3"
  },
  "language_info": {
   "codemirror_mode": {
    "name": "ipython",
    "version": 3
   },
   "file_extension": ".py",
   "mimetype": "text/x-python",
   "name": "python",
   "nbconvert_exporter": "python",
   "pygments_lexer": "ipython3",
   "version": "3.9.13"
  }
 },
 "nbformat": 4,
 "nbformat_minor": 5
}
