{
 "cells": [
  {
   "cell_type": "code",
   "execution_count": 58,
   "id": "f3dc3832",
   "metadata": {},
   "outputs": [
    {
     "name": "stdout",
     "output_type": "stream",
     "text": [
      "the value of c is 543\n"
     ]
    }
   ],
   "source": [
    "a=345\n",
    "c=''\n",
    "d=[]\n",
    "for i in range(len(str(a))):\n",
    "    e=a%10\n",
    "    a=a//10\n",
    "    \n",
    "    d.append(e)  \n",
    "\n",
    "for i in d:\n",
    "    c=c+str(i) \n",
    "print(f'the value of c is {c}')"
   ]
  },
  {
   "cell_type": "code",
   "execution_count": 11,
   "id": "3edba23b",
   "metadata": {},
   "outputs": [],
   "source": []
  },
  {
   "cell_type": "code",
   "execution_count": null,
   "id": "c5303c7d",
   "metadata": {},
   "outputs": [],
   "source": []
  },
  {
   "cell_type": "code",
   "execution_count": null,
   "id": "54cb18dc",
   "metadata": {},
   "outputs": [],
   "source": [
    "\n",
    "   \n",
    "\n",
    "    \n",
    "    "
   ]
  },
  {
   "cell_type": "code",
   "execution_count": null,
   "id": "373e6605",
   "metadata": {},
   "outputs": [],
   "source": []
  }
 ],
 "metadata": {
  "kernelspec": {
   "display_name": "Python 3 (ipykernel)",
   "language": "python",
   "name": "python3"
  },
  "language_info": {
   "codemirror_mode": {
    "name": "ipython",
    "version": 3
   },
   "file_extension": ".py",
   "mimetype": "text/x-python",
   "name": "python",
   "nbconvert_exporter": "python",
   "pygments_lexer": "ipython3",
   "version": "3.9.13"
  }
 },
 "nbformat": 4,
 "nbformat_minor": 5
}
