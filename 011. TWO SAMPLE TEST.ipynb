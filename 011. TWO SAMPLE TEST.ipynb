{
 "cells": [
  {
   "cell_type": "code",
   "execution_count": 24,
   "id": "b8abbf94",
   "metadata": {},
   "outputs": [
    {
     "name": "stdout",
     "output_type": "stream",
     "text": [
      "t_statistic : -1.8973665961010275\n",
      "p_value : 0.09434977284243756\n"
     ]
    }
   ],
   "source": [
    "from scipy import stats\n",
    "list1=[5,10,15,20,25]\n",
    "list2=[10,20,30,40,50]\n",
    "t_test=0\n",
    "p_value=0\n",
    "def perform_hypothesis_test(l1,l2):\n",
    "    t_statistic,p_value=stats.ttest_ind(l1,l2)\n",
    "    return t_statistic,p_value\n",
    "t_statistic1 , p_value = perform_hypothesis_test(list1,list2)\n",
    "print(f't_statistic : {t_statistic1}\\np_value : {p_value}')\n"
   ]
  },
  {
   "cell_type": "code",
   "execution_count": null,
   "id": "94e37638",
   "metadata": {},
   "outputs": [],
   "source": []
  }
 ],
 "metadata": {
  "kernelspec": {
   "display_name": "Python 3 (ipykernel)",
   "language": "python",
   "name": "python3"
  },
  "language_info": {
   "codemirror_mode": {
    "name": "ipython",
    "version": 3
   },
   "file_extension": ".py",
   "mimetype": "text/x-python",
   "name": "python",
   "nbconvert_exporter": "python",
   "pygments_lexer": "ipython3",
   "version": "3.9.13"
  }
 },
 "nbformat": 4,
 "nbformat_minor": 5
}
