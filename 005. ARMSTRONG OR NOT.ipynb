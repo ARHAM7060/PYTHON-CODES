{
 "cells": [
  {
   "cell_type": "code",
   "execution_count": 34,
   "id": "d31e9830",
   "metadata": {},
   "outputs": [],
   "source": [
    "#ARMSTRONG OR NOT"
   ]
  },
  {
   "cell_type": "code",
   "execution_count": 36,
   "id": "5434e9f0",
   "metadata": {},
   "outputs": [
    {
     "name": "stdout",
     "output_type": "stream",
     "text": [
      "armostrong\n"
     ]
    }
   ],
   "source": [
    "a=str(153)\n",
    "b=str(a)\n",
    "c=0\n",
    "for i in b:\n",
    "    c=c+((int(i))**(len(a)))\n",
    "if c==int(a):\n",
    "    print('armostrong')\n",
    "else:\n",
    "    print('not armostrong')\n",
    "    \n",
    "    "
   ]
  },
  {
   "cell_type": "code",
   "execution_count": null,
   "id": "bc799bce",
   "metadata": {},
   "outputs": [],
   "source": []
  },
  {
   "cell_type": "code",
   "execution_count": null,
   "id": "9e7c1fbf",
   "metadata": {},
   "outputs": [],
   "source": []
  },
  {
   "cell_type": "code",
   "execution_count": null,
   "id": "051908b7",
   "metadata": {},
   "outputs": [],
   "source": []
  }
 ],
 "metadata": {
  "kernelspec": {
   "display_name": "Python 3 (ipykernel)",
   "language": "python",
   "name": "python3"
  },
  "language_info": {
   "codemirror_mode": {
    "name": "ipython",
    "version": 3
   },
   "file_extension": ".py",
   "mimetype": "text/x-python",
   "name": "python",
   "nbconvert_exporter": "python",
   "pygments_lexer": "ipython3",
   "version": "3.9.13"
  }
 },
 "nbformat": 4,
 "nbformat_minor": 5
}
