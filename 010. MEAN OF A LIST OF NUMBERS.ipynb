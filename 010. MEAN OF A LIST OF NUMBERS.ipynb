{
 "cells": [
  {
   "cell_type": "code",
   "execution_count": 20,
   "id": "68ecfcfd",
   "metadata": {},
   "outputs": [
    {
     "name": "stdout",
     "output_type": "stream",
     "text": [
      "list is : [10, 15, 20, 25, 30]\n",
      "sum is : 100\n",
      "mean of the numbers in list i : 20.0\n"
     ]
    }
   ],
   "source": [
    "list=[10,15,20,25,30]\n",
    "print(f'list is : {list}')\n",
    "def calculate_mean(l):\n",
    "    sum=0\n",
    "    mean=0\n",
    "    for i in l:\n",
    "        sum=sum+i\n",
    "        mean=sum/len(l)\n",
    "    print(f'sum is : {sum}')    \n",
    "    return mean\n",
    "mean_value=calculate_mean(list)\n",
    "\n",
    "print(f'mean of the numbers in list i : {mean_value}')"
   ]
  },
  {
   "cell_type": "code",
   "execution_count": null,
   "id": "18848990",
   "metadata": {},
   "outputs": [],
   "source": []
  }
 ],
 "metadata": {
  "kernelspec": {
   "display_name": "Python 3 (ipykernel)",
   "language": "python",
   "name": "python3"
  },
  "language_info": {
   "codemirror_mode": {
    "name": "ipython",
    "version": 3
   },
   "file_extension": ".py",
   "mimetype": "text/x-python",
   "name": "python",
   "nbconvert_exporter": "python",
   "pygments_lexer": "ipython3",
   "version": "3.9.13"
  }
 },
 "nbformat": 4,
 "nbformat_minor": 5
}
