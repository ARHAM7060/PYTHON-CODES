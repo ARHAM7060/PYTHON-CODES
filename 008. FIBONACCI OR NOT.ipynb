{
 "cells": [
  {
   "cell_type": "code",
   "execution_count": 5,
   "id": "c3d05398",
   "metadata": {},
   "outputs": [
    {
     "name": "stdout",
     "output_type": "stream",
     "text": [
      "series is fibonacci\n"
     ]
    }
   ],
   "source": [
    "#TO CHECK SERIES IS FIBONACCI OR NOT\n",
    "a=[0,1,1,2,3,5,8,13,21]\n",
    "for i in range(len(a)):\n",
    "    if i<2:\n",
    "        continue\n",
    "    else:\n",
    "        if a[i-2]+a[i-1]==a[i]:\n",
    "            if i==len(a)-1:\n",
    "                print('series is fibonacci')\n",
    "        else:\n",
    "            print('the series is not fibonacci')\n",
    "            break   "
   ]
  },
  {
   "cell_type": "code",
   "execution_count": 1,
   "id": "0c8167d8",
   "metadata": {},
   "outputs": [
    {
     "name": "stdout",
     "output_type": "stream",
     "text": [
      "arham\n"
     ]
    }
   ],
   "source": [
    "print('arham')"
   ]
  },
  {
   "cell_type": "code",
   "execution_count": null,
   "id": "cf347948",
   "metadata": {},
   "outputs": [],
   "source": []
  }
 ],
 "metadata": {
  "kernelspec": {
   "display_name": "Python 3 (ipykernel)",
   "language": "python",
   "name": "python3"
  },
  "language_info": {
   "codemirror_mode": {
    "name": "ipython",
    "version": 3
   },
   "file_extension": ".py",
   "mimetype": "text/x-python",
   "name": "python",
   "nbconvert_exporter": "python",
   "pygments_lexer": "ipython3",
   "version": "3.9.13"
  }
 },
 "nbformat": 4,
 "nbformat_minor": 5
}
