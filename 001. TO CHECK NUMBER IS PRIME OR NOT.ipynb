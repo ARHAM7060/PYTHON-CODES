{
 "cells": [
  {
   "cell_type": "code",
   "execution_count": 3,
   "id": "23f612b8",
   "metadata": {},
   "outputs": [],
   "source": [
    "#CODE TO FIND THAT THE NUMBER IS PRIME OR NOT"
   ]
  },
  {
   "cell_type": "code",
   "execution_count": 47,
   "id": "8fe3a9de",
   "metadata": {},
   "outputs": [
    {
     "name": "stdout",
     "output_type": "stream",
     "text": [
      "input the number7\n"
     ]
    }
   ],
   "source": [
    "a=int(input('input the number'))"
   ]
  },
  {
   "cell_type": "code",
   "execution_count": 48,
   "id": "05a5cd8d",
   "metadata": {},
   "outputs": [
    {
     "name": "stdout",
     "output_type": "stream",
     "text": [
      "prime\n"
     ]
    }
   ],
   "source": [
    "count=0\n",
    "for i in range(2,a):\n",
    "    if a%i==0:\n",
    "        count=count+1\n",
    "        if count!=0:\n",
    "            break\n",
    "if count!=0:\n",
    "    print('not prime')\n",
    "else:\n",
    "    print('prime')"
   ]
  },
  {
   "cell_type": "code",
   "execution_count": null,
   "id": "e2217ddc",
   "metadata": {},
   "outputs": [],
   "source": []
  }
 ],
 "metadata": {
  "kernelspec": {
   "display_name": "Python 3 (ipykernel)",
   "language": "python",
   "name": "python3"
  },
  "language_info": {
   "codemirror_mode": {
    "name": "ipython",
    "version": 3
   },
   "file_extension": ".py",
   "mimetype": "text/x-python",
   "name": "python",
   "nbconvert_exporter": "python",
   "pygments_lexer": "ipython3",
   "version": "3.9.13"
  }
 },
 "nbformat": 4,
 "nbformat_minor": 5
}
